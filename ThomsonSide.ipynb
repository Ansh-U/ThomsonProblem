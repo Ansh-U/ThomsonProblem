{
 "cells": [
  {
   "cell_type": "code",
   "execution_count": 4,
   "metadata": {},
   "outputs": [],
   "source": [
    "import numpy as np\n",
    "import matplotlib.pyplot as plt \n",
    "import matplotlib.animation as ani\n",
    "import matplotlib.cm as cm \n",
    "\n",
    "\n",
    "\n",
    "\n",
    "# allows animation features within notebook\n",
    "%matplotlib notebook"
   ]
  },
  {
   "cell_type": "code",
   "execution_count": 5,
   "metadata": {},
   "outputs": [
    {
     "data": {
      "text/plain": [
       "(3,)"
      ]
     },
     "execution_count": 5,
     "metadata": {},
     "output_type": "execute_result"
    }
   ],
   "source": [
    "timesteps = np.arange(0,5,0.01)\n",
    "vector = np.array([0.0,0.0,0.0])\n",
    "center = np.zeros(np.shape(vector))\n",
    "np.shape(vector)"
   ]
  },
  {
   "cell_type": "code",
   "execution_count": 21,
   "metadata": {},
   "outputs": [],
   "source": [
    "\n",
    "class Particle:\n",
    "    def __init__(self, timesteps, mass=1, charge=1, force=np.zeros((timesteps.size,3)), dt=timesteps.size / 100000):\n",
    "        self.mass = mass\n",
    "        self.charge = charge\n",
    "        self.timesteps = timesteps\n",
    "        self.force = force\n",
    "        self.dt = dt\n",
    "\n",
    "        self.pos = np.zeros(np.shape(vector))\n",
    "        self.vel = np.zeros(np.shape(vector))\n",
    "        self.accel = np.zeros(np.shape(vector))\n",
    "        self.force = np.zeros(np.shape(vector))\n",
    "\n",
    "  "
   ]
  },
  {
   "cell_type": "code",
   "execution_count": 22,
   "metadata": {},
   "outputs": [],
   "source": [
    "def make_particle_list(particle_count):\n",
    "    particle_list = []\n",
    "    for i in range(particle_count):\n",
    "        particle_list.append(Particle(timesteps))\n",
    "    return(particle_list)\n",
    "        \n",
    "def set_positions(particle_list):  # sets INITIAL positions of particles as (1,0,0) , (2,0,0) ...\n",
    "    for i in range(len(particle_list)):\n",
    "        set_pos = np.random.rand(3)\n",
    "        particle_list[i].pos = set_pos/np.linalg.norm(set_pos)\n",
    "        #(set_pos/np.linalg.norm(set_pos))*1.01\n",
    "        \n",
    "def calc_forces(particle_list):  # calcs forces between particles\n",
    "    for i in range(len(particle_list)):\n",
    "        for j in range(i+1, len(particle_list)):\n",
    "            sep = particle_list[i].pos[-1] - particle_list[j].pos[-1]\n",
    "            particle_list[i].force[-1] += (sep / (np.linalg.norm(sep)) ** 3)*0.00001\n",
    "            particle_list[j].force[-1] -= (sep / (np.linalg.norm(sep)) ** 3)*0.00001\n",
    "            \n",
    "            \n",
    "def update(particle_list):    \n",
    "    for i in range(len(particle_list)):            \n",
    "        particle_list[i].accel = particle_list[i].force / particle_list[i].mass\n",
    "        particle_list[i].vel+= particle_list[i].accel * particle_list[i].dt\n",
    "        particle_list[i].pos+= particle_list[i].vel * particle_list[i].dt\n",
    "                            \n",
    "def make_placeholder(timesteps):\n",
    "    return np.zeros((timesteps.size,3))\n",
    "\n",
    "def set_initial_conditions(particle_list, i, vel, pos):\n",
    "    particle_list[i].pos = pos\n",
    "    particle_list[i].vel = vel\n",
    "    \n",
    "def sphere_constraint(particle_list, center):\n",
    "    for i in range(len(particle_list)):\n",
    "        radius = (particle_list[i].pos - center)\n",
    "        particle_list[i].force = particle_list[i].force + np.dot(particle_list[i].force,radius) \n",
    "        \n",
    "def velocity_constraint(particle_list, center):\n",
    "     for i in range(len(particle_list)):\n",
    "        radius = (particle_list[i].pos - center)\n",
    "        particle_list[i].vel = particle_list[i].vel + np.dot(particle_list[i].vel,radius)\n",
    "    "
   ]
  },
  {
   "cell_type": "code",
   "execution_count": 25,
   "metadata": {},
   "outputs": [],
   "source": [
    "#test_list = make_particle_list(3)\n",
    "#set_positions(test_list)\n",
    "#print(test_list[2].force)\n",
    "\n",
    "def run_sim(N,timesteps):   \n",
    "    \n",
    "    particle_list = make_particle_list(N)\n",
    "    set_positions(particle_list)    \n",
    "    vel = make_placeholder(timesteps)\n",
    "    pos = make_placeholder(timesteps)        \n",
    "    for inum, timestep in enumerate(timesteps):        \n",
    "        vel[inum] = particle_list[2].vel[-1]\n",
    "        pos[inum] = particle_list[2].pos[-1]\n",
    "        \n",
    "        calc_forces(particle_list)\n",
    "        sphere_constraint(particle_list, center)\n",
    "        velocity_constraint(particle_list, center)\n",
    "        update(particle_list)\n",
    "    return vel,pos\n",
    "\n",
    "        \n",
    "    "
   ]
  },
  {
   "cell_type": "code",
   "execution_count": 26,
   "metadata": {},
   "outputs": [
    {
     "name": "stderr",
     "output_type": "stream",
     "text": [
      "C:\\Users\\17348\\Anaconda3\\lib\\site-packages\\ipykernel_launcher.py:17: RuntimeWarning: overflow encountered in double_scalars\n",
      "C:\\Users\\17348\\Anaconda3\\lib\\site-packages\\ipykernel_launcher.py:18: RuntimeWarning: overflow encountered in double_scalars\n",
      "C:\\Users\\17348\\Anaconda3\\lib\\site-packages\\ipykernel_launcher.py:17: RuntimeWarning: invalid value encountered in double_scalars\n",
      "C:\\Users\\17348\\Anaconda3\\lib\\site-packages\\ipykernel_launcher.py:18: RuntimeWarning: invalid value encountered in double_scalars\n"
     ]
    },
    {
     "name": "stdout",
     "output_type": "stream",
     "text": [
      "[ 0.23894401  0.238944    0.23894399  0.23894393  0.23894378  0.23894331\n",
      "  0.23894188  0.23893759  0.23892483  0.23888735  0.23877851  0.23846571\n",
      "  0.23757502  0.23506046  0.22802794  0.20862803  0.15657715  0.02616882\n",
      " -0.24520375 -0.57440089 -0.62975659 -0.6293725  -0.62937431 -0.62937385\n",
      "         nan         nan         nan         nan         nan         nan\n",
      "         nan         nan         nan         nan         nan         nan\n",
      "         nan         nan         nan         nan         nan         nan\n",
      "         nan         nan         nan         nan         nan         nan\n",
      "         nan         nan         nan         nan         nan         nan\n",
      "         nan         nan         nan         nan         nan         nan\n",
      "         nan         nan         nan         nan         nan         nan\n",
      "         nan         nan         nan         nan         nan         nan\n",
      "         nan         nan         nan         nan         nan         nan\n",
      "         nan         nan         nan         nan         nan         nan\n",
      "         nan         nan         nan         nan         nan         nan\n",
      "         nan         nan         nan         nan         nan         nan\n",
      "         nan         nan         nan         nan         nan         nan\n",
      "         nan         nan         nan         nan         nan         nan\n",
      "         nan         nan         nan         nan         nan         nan\n",
      "         nan         nan         nan         nan         nan         nan\n",
      "         nan         nan         nan         nan         nan         nan\n",
      "         nan         nan         nan         nan         nan         nan\n",
      "         nan         nan         nan         nan         nan         nan\n",
      "         nan         nan         nan         nan         nan         nan\n",
      "         nan         nan         nan         nan         nan         nan\n",
      "         nan         nan         nan         nan         nan         nan\n",
      "         nan         nan         nan         nan         nan         nan\n",
      "         nan         nan         nan         nan         nan         nan\n",
      "         nan         nan         nan         nan         nan         nan\n",
      "         nan         nan         nan         nan         nan         nan\n",
      "         nan         nan         nan         nan         nan         nan\n",
      "         nan         nan         nan         nan         nan         nan\n",
      "         nan         nan         nan         nan         nan         nan\n",
      "         nan         nan         nan         nan         nan         nan\n",
      "         nan         nan         nan         nan         nan         nan\n",
      "         nan         nan         nan         nan         nan         nan\n",
      "         nan         nan         nan         nan         nan         nan\n",
      "         nan         nan         nan         nan         nan         nan\n",
      "         nan         nan         nan         nan         nan         nan\n",
      "         nan         nan         nan         nan         nan         nan\n",
      "         nan         nan         nan         nan         nan         nan\n",
      "         nan         nan         nan         nan         nan         nan\n",
      "         nan         nan         nan         nan         nan         nan\n",
      "         nan         nan         nan         nan         nan         nan\n",
      "         nan         nan         nan         nan         nan         nan\n",
      "         nan         nan         nan         nan         nan         nan\n",
      "         nan         nan         nan         nan         nan         nan\n",
      "         nan         nan         nan         nan         nan         nan\n",
      "         nan         nan         nan         nan         nan         nan\n",
      "         nan         nan         nan         nan         nan         nan\n",
      "         nan         nan         nan         nan         nan         nan\n",
      "         nan         nan         nan         nan         nan         nan\n",
      "         nan         nan         nan         nan         nan         nan\n",
      "         nan         nan         nan         nan         nan         nan\n",
      "         nan         nan         nan         nan         nan         nan\n",
      "         nan         nan         nan         nan         nan         nan\n",
      "         nan         nan         nan         nan         nan         nan\n",
      "         nan         nan         nan         nan         nan         nan\n",
      "         nan         nan         nan         nan         nan         nan\n",
      "         nan         nan         nan         nan         nan         nan\n",
      "         nan         nan         nan         nan         nan         nan\n",
      "         nan         nan         nan         nan         nan         nan\n",
      "         nan         nan         nan         nan         nan         nan\n",
      "         nan         nan         nan         nan         nan         nan\n",
      "         nan         nan         nan         nan         nan         nan\n",
      "         nan         nan         nan         nan         nan         nan\n",
      "         nan         nan         nan         nan         nan         nan\n",
      "         nan         nan         nan         nan         nan         nan\n",
      "         nan         nan         nan         nan         nan         nan\n",
      "         nan         nan         nan         nan         nan         nan\n",
      "         nan         nan         nan         nan         nan         nan\n",
      "         nan         nan         nan         nan         nan         nan\n",
      "         nan         nan         nan         nan         nan         nan\n",
      "         nan         nan         nan         nan         nan         nan\n",
      "         nan         nan         nan         nan         nan         nan\n",
      "         nan         nan         nan         nan         nan         nan\n",
      "         nan         nan         nan         nan         nan         nan\n",
      "         nan         nan         nan         nan         nan         nan\n",
      "         nan         nan         nan         nan         nan         nan\n",
      "         nan         nan         nan         nan         nan         nan\n",
      "         nan         nan         nan         nan         nan         nan\n",
      "         nan         nan         nan         nan         nan         nan\n",
      "         nan         nan         nan         nan         nan         nan\n",
      "         nan         nan]\n"
     ]
    },
    {
     "data": {
      "image/png": "[encoded data removed]",
      "text/plain": [
       "<Figure size 432x288 with 1 Axes>"
      ]
     },
     "metadata": {
      "needs_background": "light"
     },
     "output_type": "display_data"
    }
   ],
   "source": [
    "vel,pos = run_sim(3, timesteps)\n",
    "plt.plot(timesteps,pos[:,2])\n",
    "plt.grid()\n",
    "print(pos[:,0])"
   ]
  },
  {
   "cell_type": "code",
   "execution_count": null,
   "metadata": {},
   "outputs": [],
   "source": []
  },
  {
   "cell_type": "code",
   "execution_count": null,
   "metadata": {},
   "outputs": [],
   "source": [
    "abc = np.array([;,;,;])\n",
    "print(abc)"
   ]
  }
 ],
 "metadata": {
  "kernelspec": {
   "display_name": "Python 3",
   "language": "python",
   "name": "python3"
  },
  "language_info": {
   "codemirror_mode": {
    "name": "ipython",
    "version": 3
   },
   "file_extension": ".py",
   "mimetype": "text/x-python",
   "name": "python",
   "nbconvert_exporter": "python",
   "pygments_lexer": "ipython3",
   "version": "3.7.4"
  }
 },
 "nbformat": 4,
 "nbformat_minor": 4
}
