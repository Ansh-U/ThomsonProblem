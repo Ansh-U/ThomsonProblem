{
 "cells": [
  {
   "cell_type": "code",
   "execution_count": 9,
   "metadata": {},
   "outputs": [],
   "source": [
    "import numpy as np\n",
    "import matplotlib.pyplot as plt \n",
    "import matplotlib.animation as ani\n",
    "import matplotlib.cm as cm \n",
    "from threading import Thread\n",
    "from time import sleep\n",
    "from main import MainCycle\n",
    "# particle as particle\n",
    "\n",
    "\n",
    "\n",
    "\n",
    "# allows animation features within notebook\n",
    "%matplotlib notebook"
   ]
  },
  {
   "cell_type": "code",
   "execution_count": 10,
   "metadata": {},
   "outputs": [
    {
     "name": "stdout",
     "output_type": "stream",
     "text": [
      "1.428355697996826    1.428355697996826\n",
      "1.749371315644566    1.749371315644566\n",
      "2.02    2.02\n",
      "2.258428657274788    2.258428657274788\n",
      "2.4739846402110097    2.47398464021101\n",
      "2.6722088241752364    2.6722088241752364\n",
      "2.856711395993652    2.856711395993652\n",
      "3.03    3.0300000000000002\n",
      "3.1939004367700634    3.1939004367700634\n",
      "3.349791038258954    3.349791038258954\n",
      "3.498742631289132    3.498742631289132\n",
      "[[ 0.52970827  0.62109262  0.59477147]\n",
      " [ 0.54130256  0.57601653  0.62872609]\n",
      " [ 0.55950496  0.49756836  0.67784949]\n",
      " [ 0.57782607  0.39612116  0.72753355]\n",
      " [ 0.59153914  0.27871631  0.76973935]\n",
      " [ 0.59774857  0.15059431  0.80007375]\n",
      " [ 0.59482707  0.01614924  0.81610046]\n",
      " [ 0.58200949 -0.12068395  0.81657843]\n",
      " [ 0.55914904 -0.25630232  0.80110016]\n",
      " [ 0.52656655 -0.38741408  0.7698948 ]\n",
      " [ 0.48494867 -0.51105836  0.72370169]\n",
      " [ 0.4352723  -0.62463805  0.66367563]]\n"
     ]
    }
   ],
   "source": [
    "cycle = MainCycle(3,0.1)\n",
    "cycle.start_cycle(1)\n",
    "print(cycle.particle_list[0].pos)"
   ]
  },
  {
   "cell_type": "markdown",
   "metadata": {},
   "source": []
  },
  {
   "cell_type": "code",
   "execution_count": 14,
   "metadata": {},
   "outputs": [
    {
     "ename": "AttributeError",
     "evalue": "'MainCycle' object has no attribute 'counter'",
     "output_type": "error",
     "traceback": [
      "\u001b[1;31m---------------------------------------------------------------------------\u001b[0m",
      "\u001b[1;31mAttributeError\u001b[0m                            Traceback (most recent call last)",
      "\u001b[1;32m<ipython-input-14-df1e72963cc2>\u001b[0m in \u001b[0;36m<module>\u001b[1;34m\u001b[0m\n\u001b[1;32m----> 1\u001b[1;33m \u001b[0mprint\u001b[0m\u001b[1;33m(\u001b[0m\u001b[0mcycle\u001b[0m\u001b[1;33m.\u001b[0m\u001b[0mcounter\u001b[0m\u001b[1;33m)\u001b[0m\u001b[1;33m\u001b[0m\u001b[1;33m\u001b[0m\u001b[0m\n\u001b[0m\u001b[0;32m      2\u001b[0m \u001b[1;33m\u001b[0m\u001b[0m\n",
      "\u001b[1;31mAttributeError\u001b[0m: 'MainCycle' object has no attribute 'counter'"
     ]
    }
   ],
   "source": [
    "print(cycle.counter)\n",
    "    "
   ]
  },
  {
   "cell_type": "code",
   "execution_count": 11,
   "metadata": {},
   "outputs": [
    {
     "ename": "AttributeError",
     "evalue": "'MainCycle' object has no attribute 'counter'",
     "output_type": "error",
     "traceback": [
      "\u001b[1;31m---------------------------------------------------------------------------\u001b[0m",
      "\u001b[1;31mAttributeError\u001b[0m                            Traceback (most recent call last)",
      "\u001b[1;32m<ipython-input-11-fb0240477cbe>\u001b[0m in \u001b[0;36m<module>\u001b[1;34m\u001b[0m\n\u001b[1;32m----> 1\u001b[1;33m \u001b[0mplt\u001b[0m\u001b[1;33m.\u001b[0m\u001b[0mplot\u001b[0m\u001b[1;33m(\u001b[0m\u001b[0mcycle\u001b[0m\u001b[1;33m.\u001b[0m\u001b[0mcounter\u001b[0m\u001b[1;33m,\u001b[0m\u001b[0mcycle\u001b[0m\u001b[1;33m.\u001b[0m\u001b[0mparticle_list\u001b[0m\u001b[1;33m[\u001b[0m\u001b[1;36m0\u001b[0m\u001b[1;33m]\u001b[0m\u001b[1;33m.\u001b[0m\u001b[0mpos\u001b[0m\u001b[1;33m)\u001b[0m\u001b[1;33m\u001b[0m\u001b[1;33m\u001b[0m\u001b[0m\n\u001b[0m",
      "\u001b[1;31mAttributeError\u001b[0m: 'MainCycle' object has no attribute 'counter'"
     ]
    }
   ],
   "source": []
  },
  {
   "cell_type": "code",
   "execution_count": null,
   "metadata": {},
   "outputs": [],
   "source": [
    "\n",
    "\n",
    "\n"
   ]
  },
  {
   "cell_type": "code",
   "execution_count": null,
   "metadata": {},
   "outputs": [],
   "source": []
  },
  {
   "cell_type": "code",
   "execution_count": null,
   "metadata": {},
   "outputs": [],
   "source": []
  },
  {
   "cell_type": "code",
   "execution_count": null,
   "metadata": {},
   "outputs": [],
   "source": []
  }
 ],
 "metadata": {
  "kernelspec": {
   "display_name": "Python 3",
   "language": "python",
   "name": "python3"
  },
  "language_info": {
   "codemirror_mode": {
    "name": "ipython",
    "version": 3
   },
   "file_extension": ".py",
   "mimetype": "text/x-python",
   "name": "python",
   "nbconvert_exporter": "python",
   "pygments_lexer": "ipython3",
   "version": "3.7.4"
  }
 },
 "nbformat": 4,
 "nbformat_minor": 4
}
