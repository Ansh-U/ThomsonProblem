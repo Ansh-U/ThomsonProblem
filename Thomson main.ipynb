{
 "cells": [
  {
   "cell_type": "code",
   "execution_count": 3,
   "metadata": {},
   "outputs": [],
   "source": [
    "import numpy as np\n",
    "import matplotlib.pyplot as plt \n",
    "import matplotlib.animation as ani\n",
    "import matplotlib.cm as cm \n",
    "\n",
    "# allows animation features within notebook\n",
    "%matplotlib notebook"
   ]
  },
  {
   "cell_type": "code",
   "execution_count": 4,
   "metadata": {},
   "outputs": [],
   "source": [
    "timesteps = np.arange(-1,1,0.01)"
   ]
  },
  {
   "cell_type": "code",
   "execution_count": 5,
   "metadata": {},
   "outputs": [],
   "source": [
    "class particle:\n",
    "    def __init__(self, timesteps, mass = 1, charge = 1, force = np.zeros(timesteps.size), dt = timesteps.size/1000):\n",
    "             \n",
    "        self.mass = mass\n",
    "        self.charge = charge\n",
    "        self.timesteps = timesteps\n",
    "        self.force = force\n",
    "        self.dt = dt\n",
    "        \n",
    "        self.pos = np.zeros((self.timesteps.size, 3))\n",
    "        self.vel = np.zeros((self.timesteps.size, 3))\n",
    "        self.accel = np.zeros((self.timesteps.size, 3))\n",
    "        \n",
    "    def update(self,force):\n",
    "        self.accel - self.forcce/self.mass\n",
    "        self.vel = self.accel*dt\n",
    "        self.pos = self.vel*dt\n",
    "        \n",
    "        "
   ]
  },
  {
   "cell_type": "code",
   "execution_count": 40,
   "metadata": {},
   "outputs": [],
   "source": [
    "# now we set up an array of particle objects\n",
    "\n",
    "\n",
    "def make_particle_list(N): # makes list of N particles\n",
    "    Particle_list = []\n",
    "    for i in range(N):\n",
    "        Particle_list.append(particle(timesteps))\n",
    "    return Particle_list\n",
    "\n",
    "def set_positions(Particle_list): # sets positions of particles as (1,0,0) , (2,0,0) ...\n",
    "    for i in range(len(Particle_list)):\n",
    "        Particle_list[i].pos = np.array([i,0,0])\n",
    "    \n",
    "def calc_forces(particle, Particle_list): # calcs forces between particles\n",
    "    for i in range(N):\n",
    "        for j in range(N):\n",
    "            if i == j:\n",
    "                Particle_list[i].force+=0\n",
    "            else:\n",
    "                Particle_list[i].force+= 1/(np.linalg.norm(Particle_list[i].pos - Particle_list[j].pos))**2\n",
    "\n"
   ]
  },
  {
   "cell_type": "code",
   "execution_count": 41,
   "metadata": {},
   "outputs": [
    {
     "name": "stdout",
     "output_type": "stream",
     "text": [
      "[2 0 0]\n"
     ]
    }
   ],
   "source": [
    "particles = make_particle_list(3)\n",
    "set_positions(particles)\n",
    "print(particles[2].pos)\n",
    "\n",
    "\n",
    "\n"
   ]
  },
  {
   "cell_type": "code",
   "execution_count": null,
   "metadata": {},
   "outputs": [],
   "source": []
  },
  {
   "cell_type": "code",
   "execution_count": null,
   "metadata": {},
   "outputs": [],
   "source": []
  }
 ],
 "metadata": {
  "kernelspec": {
   "display_name": "Python 3",
   "language": "python",
   "name": "python3"
  },
  "language_info": {
   "codemirror_mode": {
    "name": "ipython",
    "version": 3
   },
   "file_extension": ".py",
   "mimetype": "text/x-python",
   "name": "python",
   "nbconvert_exporter": "python",
   "pygments_lexer": "ipython3",
   "version": "3.7.4"
  }
 },
 "nbformat": 4,
 "nbformat_minor": 2
}
