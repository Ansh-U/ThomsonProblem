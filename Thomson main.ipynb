{
 "cells": [
  {
   "cell_type": "code",
   "execution_count": 5,
   "metadata": {},
   "outputs": [],
   "source": [
    "import numpy as np\n",
    "import matplotlib.pyplot as plt \n",
    "import matplotlib.animation as ani\n",
    "import matplotlib.cm as cm \n",
    "from threading import Thread\n",
    "from time import sleep\n",
    "from main import MainCycle\n",
    "# particle as particle\n",
    "\n",
    "\n",
    "\n",
    "\n",
    "# allows animation features within notebook\n",
    "%matplotlib notebook"
   ]
  },
  {
   "cell_type": "code",
   "execution_count": 7,
   "metadata": {},
   "outputs": [
    {
     "name": "stdout",
     "output_type": "stream",
     "text": [
      "1.428355697996826    1.428355697996826\n",
      "1.749371315644566    1.7493713156445663\n",
      "2.02    2.02\n",
      "2.258428657274788    2.258428657274788\n",
      "2.4739846402110097    2.4739846402110097\n",
      "2.6722088241752364    2.6722088241752364\n",
      "2.856711395993652    2.856711395993652\n",
      "3.03    3.03\n",
      "3.1939004367700634    3.1939004367700634\n",
      "3.349791038258954    3.3497910382589535\n",
      "3.498742631289132    3.498742631289132\n",
      "[[ 0.61697464  0.52360152  0.60438708]\n",
      " [ 0.60359374  0.48614582  0.64763944]\n",
      " [ 0.57766518  0.4247203   0.71134774]\n",
      " [ 0.53998377  0.34780281  0.77945541]\n",
      " [ 0.49144523  0.26015741  0.84314869]\n",
      " [ 0.43313945  0.16510582  0.89734624]\n",
      " [ 0.36635384  0.06540368  0.93893941]\n",
      " [ 0.29253982 -0.03646259  0.96601808]\n",
      " [ 0.21326801 -0.13818502  0.97750788]\n",
      " [ 0.1301813  -0.23761861  0.97298007]\n",
      " [ 0.04494961 -0.33279368  0.95253761]\n",
      " [-0.04077274 -0.42193759  0.91673674]]\n"
     ]
    }
   ],
   "source": [
    "cycle = MainCycle(3,0.1)\n",
    "cycle.start_cycle(1)\n",
    "print(cycle.particle_list[0].pos)"
   ]
  },
  {
   "cell_type": "markdown",
   "metadata": {},
   "source": []
  },
  {
   "cell_type": "code",
   "execution_count": null,
   "metadata": {},
   "outputs": [],
   "source": [
    "def calc_potential(particle_list):\n",
    "    "
   ]
  },
  {
   "cell_type": "code",
   "execution_count": null,
   "metadata": {},
   "outputs": [],
   "source": []
  },
  {
   "cell_type": "code",
   "execution_count": null,
   "metadata": {},
   "outputs": [],
   "source": [
    "\n",
    "\n",
    "\n"
   ]
  },
  {
   "cell_type": "code",
   "execution_count": null,
   "metadata": {},
   "outputs": [],
   "source": []
  },
  {
   "cell_type": "code",
   "execution_count": null,
   "metadata": {},
   "outputs": [],
   "source": []
  },
  {
   "cell_type": "code",
   "execution_count": null,
   "metadata": {},
   "outputs": [],
   "source": []
  }
 ],
 "metadata": {
  "kernelspec": {
   "display_name": "Python 3",
   "language": "python",
   "name": "python3"
  }
 },
 "nbformat": 4,
 "nbformat_minor": 4
}
