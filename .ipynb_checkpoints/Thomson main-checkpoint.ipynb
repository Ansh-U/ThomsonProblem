{
 "cells": [
  {
   "cell_type": "code",
   "execution_count": 31,
   "metadata": {},
   "outputs": [
    {
     "ename": "ModuleNotFoundError",
     "evalue": "No module named 'MainCycle'",
     "output_type": "error",
     "traceback": [
      "\u001b[1;31m---------------------------------------------------------------------------\u001b[0m",
      "\u001b[1;31mModuleNotFoundError\u001b[0m                       Traceback (most recent call last)",
      "\u001b[1;32m<ipython-input-31-b3237f4ff14b>\u001b[0m in \u001b[0;36m<module>\u001b[1;34m\u001b[0m\n\u001b[0;32m      5\u001b[0m \u001b[1;32mfrom\u001b[0m \u001b[0mthreading\u001b[0m \u001b[1;32mimport\u001b[0m \u001b[0mThread\u001b[0m\u001b[1;33m\u001b[0m\u001b[1;33m\u001b[0m\u001b[0m\n\u001b[0;32m      6\u001b[0m \u001b[1;32mfrom\u001b[0m \u001b[0mtime\u001b[0m \u001b[1;32mimport\u001b[0m \u001b[0msleep\u001b[0m\u001b[1;33m\u001b[0m\u001b[1;33m\u001b[0m\u001b[0m\n\u001b[1;32m----> 7\u001b[1;33m \u001b[1;32mimport\u001b[0m \u001b[0mMainCycle\u001b[0m\u001b[1;33m\u001b[0m\u001b[1;33m\u001b[0m\u001b[0m\n\u001b[0m\u001b[0;32m      8\u001b[0m \u001b[1;33m\u001b[0m\u001b[0m\n\u001b[0;32m      9\u001b[0m \u001b[1;33m\u001b[0m\u001b[0m\n",
      "\u001b[1;31mModuleNotFoundError\u001b[0m: No module named 'MainCycle'"
     ]
    }
   ],
   "source": [
    "import numpy as np\n",
    "import matplotlib.pyplot as plt \n",
    "import matplotlib.animation as ani\n",
    "import matplotlib.cm as cm \n",
    "from threading import Thread\n",
    "from time import sleep\n",
    "\n",
    "\n",
    "\n",
    "# allows animation features within notebook\n",
    "%matplotlib notebook"
   ]
  },
  {
   "cell_type": "code",
   "execution_count": 3,
   "metadata": {},
   "outputs": [],
   "source": [
    "#timesteps = np.arange(-1,1,0.01)"
   ]
  },
  {
   "cell_type": "code",
   "execution_count": 15,
   "metadata": {},
   "outputs": [],
   "source": [
    "class particle:\n",
    "    def __init__(self, dt, mass = 1, charge = 1, force = np.zeros(3)):\n",
    "             \n",
    "        self.mass = mass\n",
    "        self.charge = charge\n",
    "        self.force = force  #net force on the particle\n",
    "        self.dt = dt\n",
    "        \n",
    "        self.pos = np.zeros(np.shape(force))\n",
    "        self.vel = np.zeros(np.shape(force))\n",
    "        self.accel = np.zeros(np.shape(force))\n",
    "        \n",
    "        \n",
    "    def update(self):\n",
    "                              \n",
    "        self.accel = np.append(self.accel, self.force[-1]/self.mass)\n",
    "        \n",
    "        self.vel = np.append(self.vel, self.vel[-1]+seld.acc[-1]*dt)\n",
    "        \n",
    "        self.pos = np.append(self.pos, self.pos(take last index)+seld.vel(last index)*dt)\n"
   ]
  },
  {
   "cell_type": "code",
   "execution_count": 32,
   "metadata": {},
   "outputs": [
    {
     "ename": "SyntaxError",
     "evalue": "invalid syntax (<ipython-input-32-a67b28a9579c>, line 28)",
     "output_type": "error",
     "traceback": [
      "\u001b[1;36m  File \u001b[1;32m\"<ipython-input-32-a67b28a9579c>\"\u001b[1;36m, line \u001b[1;32m28\u001b[0m\n\u001b[1;33m    def calc_forces(self, particle_list: Particle[]):  # calcs forces between particles\u001b[0m\n\u001b[1;37m                                                  ^\u001b[0m\n\u001b[1;31mSyntaxError\u001b[0m\u001b[1;31m:\u001b[0m invalid syntax\n"
     ]
    }
   ],
   "source": [
    "\n",
    "class MainCycle:\n",
    "\n",
    "    def __init__(self, particle_count: int, delta_t: float):\n",
    "        self.particle_count = particle_count\n",
    "        self.delta_t = delta_t\n",
    "        self.make_particle_list()\n",
    "\n",
    "    def call_at_interval(self, period, callback, args):\n",
    "        while True:\n",
    "            sleep(period)\n",
    "            callback(*args)\n",
    "\n",
    "    def set_interval(self, period, callback, *args):\n",
    "        Thread(target=self.call_at_interval, args=(period, callback, args)).start()\n",
    "\n",
    "    def make_particle_list(self):  # makes list of N particles\n",
    "        particle_list = []\n",
    "        for i in range(self.particle_count):\n",
    "            particle_list.append(Particle(self.delta_t))\n",
    "        self.particle_list = particle_list\n",
    "\n",
    "    # TODO revise the positions that we set up\n",
    "    def set_positions(self):  # sets INITIAL positions of particles as (1,0,0) , (2,0,0) ...\n",
    "        for i in range(len(self.particle_list)):\n",
    "            self.particle_list[i].pos = np.array([i/10, 0, 0])\n",
    "\n",
    "    # TODO I changed the way it iterates by updating every force to make it bidirectional. Less iterations ftw\n",
    "    def calc_forces(self, particle_list: Particle[]):  # calcs forces between particles\n",
    "        for i in range(len(particle_list)):\n",
    "            for j in range(i+1, len(particle_list)):\n",
    "                sep = particle_list[i].pos - particle_list[j].pos\n",
    "                particle_list[i].force += sep / (np.linalg.norm(sep)) ** 3\n",
    "                particle_list[j].force -= sep / (np.linalg.norm(sep)) ** 3\n",
    "\n",
    "    def iterate_cycle(self, particle_count):\n",
    "        self.calc_forces(self.particle_list)\n",
    "        for i in range(particle_count):\n",
    "            self.particle_list[i].update()\n",
    "\n",
    "    def start_cycle(self):\n",
    "        self.set_positions()\n",
    "        self.set_interval(self.delta_t, self.iterate_cycle, self.particle_count)\n",
    "\n",
    "\n",
    "#if __name__ == \"__main__\":\n",
    "    # first arg will be number of particles and second arg will be delta T in seconds\n",
    " #   MainCycle(sys.argv[1], sys.argv[2]).start_cycle()"
   ]
  },
  {
   "cell_type": "code",
   "execution_count": null,
   "metadata": {},
   "outputs": [],
   "source": [
    "\n",
    "\n",
    "\n"
   ]
  },
  {
   "cell_type": "code",
   "execution_count": 29,
   "metadata": {},
   "outputs": [
    {
     "ename": "SyntaxError",
     "evalue": "invalid syntax (<ipython-input-29-a67b28a9579c>, line 28)",
     "output_type": "error",
     "traceback": [
      "\u001b[1;36m  File \u001b[1;32m\"<ipython-input-29-a67b28a9579c>\"\u001b[1;36m, line \u001b[1;32m28\u001b[0m\n\u001b[1;33m    def calc_forces(self, particle_list: Particle[]):  # calcs forces between particles\u001b[0m\n\u001b[1;37m                                                  ^\u001b[0m\n\u001b[1;31mSyntaxError\u001b[0m\u001b[1;31m:\u001b[0m invalid syntax\n"
     ]
    }
   ],
   "source": []
  },
  {
   "cell_type": "code",
   "execution_count": 27,
   "metadata": {},
   "outputs": [],
   "source": [
    "x,y = np.meshgrid(np.linspace(-1,1,10), np.linspace(-1,1,10))\n"
   ]
  },
  {
   "cell_type": "code",
   "execution_count": 33,
   "metadata": {},
   "outputs": [
    {
     "ename": "NameError",
     "evalue": "name 'MainCycle' is not defined",
     "output_type": "error",
     "traceback": [
      "\u001b[1;31m---------------------------------------------------------------------------\u001b[0m",
      "\u001b[1;31mNameError\u001b[0m                                 Traceback (most recent call last)",
      "\u001b[1;32m<ipython-input-33-bcd30be3f2ca>\u001b[0m in \u001b[0;36m<module>\u001b[1;34m\u001b[0m\n\u001b[1;32m----> 1\u001b[1;33m \u001b[0mcycle\u001b[0m \u001b[1;33m=\u001b[0m \u001b[0mMainCycle\u001b[0m\u001b[1;33m(\u001b[0m\u001b[1;36m2\u001b[0m\u001b[1;33m,\u001b[0m \u001b[1;36m0.05\u001b[0m\u001b[1;33m)\u001b[0m\u001b[1;33m\u001b[0m\u001b[1;33m\u001b[0m\u001b[0m\n\u001b[0m\u001b[0;32m      2\u001b[0m \u001b[0mcycle\u001b[0m\u001b[1;33m.\u001b[0m\u001b[0mstart_cycle\u001b[0m\u001b[1;33m\u001b[0m\u001b[1;33m\u001b[0m\u001b[0m\n\u001b[0;32m      3\u001b[0m \u001b[1;33m\u001b[0m\u001b[0m\n",
      "\u001b[1;31mNameError\u001b[0m: name 'MainCycle' is not defined"
     ]
    }
   ],
   "source": [
    "cycle = MainCycle(2, 0.05)\n",
    "cycle.start_cycle\n",
    "\n"
   ]
  }
 ],
 "metadata": {
  "kernelspec": {
   "display_name": "Python 3",
   "language": "python",
   "name": "python3"
  },
  "language_info": {
   "codemirror_mode": {
    "name": "ipython",
    "version": 3
   },
   "file_extension": ".py",
   "mimetype": "text/x-python",
   "name": "python",
   "nbconvert_exporter": "python",
   "pygments_lexer": "ipython3",
   "version": "3.7.4"
  }
 },
 "nbformat": 4,
 "nbformat_minor": 4
}
